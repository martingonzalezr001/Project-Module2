{
 "cells": [
  {
   "cell_type": "code",
   "execution_count": 2,
   "id": "f35a761c-7e47-4da8-93f6-4a4ddcd6ba67",
   "metadata": {},
   "outputs": [],
   "source": [
    "import pandas as pd"
   ]
  },
  {
   "cell_type": "code",
   "execution_count": 3,
   "id": "4ba18819-082d-438d-9e02-0599dc72bd4e",
   "metadata": {},
   "outputs": [],
   "source": [
    "my_df = pd.read_csv('..\\data\\datamadpt_0924 - martin.csv')"
   ]
  },
  {
   "cell_type": "code",
   "execution_count": 4,
   "id": "114fe667-4a56-4b44-a09a-906ad5c51782",
   "metadata": {},
   "outputs": [
    {
     "data": {
      "text/html": [
       "<div>\n",
       "<style scoped>\n",
       "    .dataframe tbody tr th:only-of-type {\n",
       "        vertical-align: middle;\n",
       "    }\n",
       "\n",
       "    .dataframe tbody tr th {\n",
       "        vertical-align: top;\n",
       "    }\n",
       "\n",
       "    .dataframe thead th {\n",
       "        text-align: right;\n",
       "    }\n",
       "</style>\n",
       "<table border=\"1\" class=\"dataframe\">\n",
       "  <thead>\n",
       "    <tr style=\"text-align: right;\">\n",
       "      <th></th>\n",
       "      <th>1. Teams</th>\n",
       "      <th>Unnamed: 1</th>\n",
       "      <th>Unnamed: 2</th>\n",
       "    </tr>\n",
       "  </thead>\n",
       "  <tbody>\n",
       "    <tr>\n",
       "      <th>0</th>\n",
       "      <td>Stores information about soccer teams.</td>\n",
       "      <td>NaN</td>\n",
       "      <td>NaN</td>\n",
       "    </tr>\n",
       "    <tr>\n",
       "      <th>1</th>\n",
       "      <td>NaN</td>\n",
       "      <td>NaN</td>\n",
       "      <td>NaN</td>\n",
       "    </tr>\n",
       "    <tr>\n",
       "      <th>2</th>\n",
       "      <td>Field Name</td>\n",
       "      <td>Meaning</td>\n",
       "      <td>Example</td>\n",
       "    </tr>\n",
       "    <tr>\n",
       "      <th>3</th>\n",
       "      <td>TeamID</td>\n",
       "      <td>Unique identifier for the team.</td>\n",
       "      <td>1, 2, 2003</td>\n",
       "    </tr>\n",
       "    <tr>\n",
       "      <th>4</th>\n",
       "      <td>TeamName</td>\n",
       "      <td>Name of the soccer team.</td>\n",
       "      <td>Manchester United, \"Real Madrid\"</td>\n",
       "    </tr>\n",
       "    <tr>\n",
       "      <th>...</th>\n",
       "      <td>...</td>\n",
       "      <td>...</td>\n",
       "      <td>...</td>\n",
       "    </tr>\n",
       "    <tr>\n",
       "      <th>99</th>\n",
       "      <td>Field Name</td>\n",
       "      <td>Meaning</td>\n",
       "      <td>Example</td>\n",
       "    </tr>\n",
       "    <tr>\n",
       "      <th>100</th>\n",
       "      <td>VenueID</td>\n",
       "      <td>Unique identifier for the venue.</td>\n",
       "      <td>301, 302, 303</td>\n",
       "    </tr>\n",
       "    <tr>\n",
       "      <th>101</th>\n",
       "      <td>VenueName</td>\n",
       "      <td>Name of the venue.</td>\n",
       "      <td>Old Trafford, \"Santiago Bernabeu\"</td>\n",
       "    </tr>\n",
       "    <tr>\n",
       "      <th>102</th>\n",
       "      <td>City</td>\n",
       "      <td>City where the venue is located.</td>\n",
       "      <td>Manchester, \"Madrid\"</td>\n",
       "    </tr>\n",
       "    <tr>\n",
       "      <th>103</th>\n",
       "      <td>Capacity</td>\n",
       "      <td>Seating capacity of the venue.</td>\n",
       "      <td>75000, 81000</td>\n",
       "    </tr>\n",
       "  </tbody>\n",
       "</table>\n",
       "<p>104 rows × 3 columns</p>\n",
       "</div>"
      ],
      "text/plain": [
       "                                   1. Teams                        Unnamed: 1  \\\n",
       "0    Stores information about soccer teams.                               NaN   \n",
       "1                                       NaN                               NaN   \n",
       "2                                Field Name                           Meaning   \n",
       "3                                    TeamID   Unique identifier for the team.   \n",
       "4                                  TeamName          Name of the soccer team.   \n",
       "..                                      ...                               ...   \n",
       "99                               Field Name                           Meaning   \n",
       "100                                 VenueID  Unique identifier for the venue.   \n",
       "101                               VenueName                Name of the venue.   \n",
       "102                                    City  City where the venue is located.   \n",
       "103                                Capacity    Seating capacity of the venue.   \n",
       "\n",
       "                            Unnamed: 2  \n",
       "0                                  NaN  \n",
       "1                                  NaN  \n",
       "2                              Example  \n",
       "3                           1, 2, 2003  \n",
       "4     Manchester United, \"Real Madrid\"  \n",
       "..                                 ...  \n",
       "99                             Example  \n",
       "100                      301, 302, 303  \n",
       "101  Old Trafford, \"Santiago Bernabeu\"  \n",
       "102               Manchester, \"Madrid\"  \n",
       "103                       75000, 81000  \n",
       "\n",
       "[104 rows x 3 columns]"
      ]
     },
     "execution_count": 4,
     "metadata": {},
     "output_type": "execute_result"
    }
   ],
   "source": [
    "my_df"
   ]
  },
  {
   "cell_type": "code",
   "execution_count": 5,
   "id": "62d5d241-4e75-4c1c-84bf-a7507159c7bc",
   "metadata": {},
   "outputs": [],
   "source": [
    "df_teams = pd.read_csv('..\\data\\mis_datos\\Teams_Table.csv')\n",
    "df_players = pd.read_csv('..\\data\\mis_datos\\Players_Table.csv')\n",
    "df_matches = pd.read_csv('..\\data\\mis_datos\\Matches_Table.csv')\n",
    "df_events = pd.read_csv('..\\data\\mis_datos\\Events_Table.csv')\n",
    "df_goals = pd.read_csv('..\\data\\mis_datos\\Goals_Table.csv')\n",
    "df_assists = pd.read_csv('..\\data\\mis_datos\\Assists_Table.csv')\n",
    "df_tournaments = pd.read_csv('..\\data\\mis_datos\\Tournaments_Table.csv')\n",
    "df_venues = pd.read_csv('..\\data\\mis_datos\\Venues_Table.csv')\n",
    "df_player_stats = pd.read_csv('..\\data\\mis_datos\\PlayerStats_Table.csv')\n",
    "df_team_stats = pd.read_csv('..\\data\\mis_datos\\TeamStats_Table.csv')"
   ]
  },
  {
   "cell_type": "markdown",
   "id": "8cd955db-c9d2-45aa-a37b-3614946d0d01",
   "metadata": {},
   "source": [
    "## TEAMS TABLE"
   ]
  },
  {
   "cell_type": "code",
   "execution_count": 7,
   "id": "2f61d1cc-2755-4464-88b2-bd312570f176",
   "metadata": {},
   "outputs": [
    {
     "name": "stdout",
     "output_type": "stream",
     "text": [
      "<class 'pandas.core.frame.DataFrame'>\n",
      "RangeIndex: 100 entries, 0 to 99\n",
      "Data columns (total 5 columns):\n",
      " #   Column       Non-Null Count  Dtype \n",
      "---  ------       --------------  ----- \n",
      " 0   TeamID       100 non-null    object\n",
      " 1   TeamName     100 non-null    object\n",
      " 2   CoachName    100 non-null    object\n",
      " 3   Country      100 non-null    object\n",
      " 4   FoundedYear  100 non-null    int64 \n",
      "dtypes: int64(1), object(4)\n",
      "memory usage: 4.0+ KB\n"
     ]
    }
   ],
   "source": [
    "df_teams.info()"
   ]
  },
  {
   "cell_type": "code",
   "execution_count": 25,
   "id": "5dc2835c-68bc-41a1-98b3-d20dcb5b59be",
   "metadata": {},
   "outputs": [
    {
     "data": {
      "text/plain": [
       "100"
      ]
     },
     "execution_count": 25,
     "metadata": {},
     "output_type": "execute_result"
    }
   ],
   "source": [
    "df_teams[\"TeamID\"].nunique()"
   ]
  },
  {
   "cell_type": "markdown",
   "id": "d3c801e0-b232-4ca1-8833-b85f1bc420c1",
   "metadata": {},
   "source": [
    "## PLAYERS TABLE"
   ]
  },
  {
   "cell_type": "code",
   "execution_count": 15,
   "id": "4708a869-5f57-4b36-a932-1f6cc0459eab",
   "metadata": {},
   "outputs": [
    {
     "name": "stdout",
     "output_type": "stream",
     "text": [
      "<class 'pandas.core.frame.DataFrame'>\n",
      "RangeIndex: 100 entries, 0 to 99\n",
      "Data columns (total 6 columns):\n",
      " #   Column       Non-Null Count  Dtype \n",
      "---  ------       --------------  ----- \n",
      " 0   PlayerID     100 non-null    object\n",
      " 1   PlayerName   100 non-null    object\n",
      " 2   TeamID       100 non-null    object\n",
      " 3   Position     100 non-null    object\n",
      " 4   BirthDate    100 non-null    object\n",
      " 5   Nationality  100 non-null    object\n",
      "dtypes: object(6)\n",
      "memory usage: 4.8+ KB\n"
     ]
    }
   ],
   "source": [
    "df_players.info()"
   ]
  },
  {
   "cell_type": "code",
   "execution_count": 27,
   "id": "281017b9-baa7-456f-b685-54ba78d02aa6",
   "metadata": {},
   "outputs": [
    {
     "data": {
      "text/plain": [
       "100"
      ]
     },
     "execution_count": 27,
     "metadata": {},
     "output_type": "execute_result"
    }
   ],
   "source": [
    "df_players[\"PlayerID\"].nunique()"
   ]
  },
  {
   "cell_type": "markdown",
   "id": "1e10e0b3-e2c3-4a38-940f-ff479f3646e9",
   "metadata": {},
   "source": [
    "## MATCHES TABLE"
   ]
  },
  {
   "cell_type": "code",
   "execution_count": 16,
   "id": "0f929019-16a9-4813-980d-c11fb0178272",
   "metadata": {},
   "outputs": [
    {
     "name": "stdout",
     "output_type": "stream",
     "text": [
      "<class 'pandas.core.frame.DataFrame'>\n",
      "RangeIndex: 100 entries, 0 to 99\n",
      "Data columns (total 7 columns):\n",
      " #   Column        Non-Null Count  Dtype \n",
      "---  ------        --------------  ----- \n",
      " 0   MatchID       100 non-null    object\n",
      " 1   TournamentID  100 non-null    object\n",
      " 2   VenueID       100 non-null    object\n",
      " 3   Date          100 non-null    object\n",
      " 4   HomeTeamID    100 non-null    object\n",
      " 5   AwayTeamID    100 non-null    object\n",
      " 6   FinalScore    100 non-null    object\n",
      "dtypes: object(7)\n",
      "memory usage: 5.6+ KB\n"
     ]
    }
   ],
   "source": [
    "df_matches.info()"
   ]
  },
  {
   "cell_type": "code",
   "execution_count": 28,
   "id": "0761d528-1cc7-48bb-81ff-44b6d6ab4445",
   "metadata": {},
   "outputs": [
    {
     "data": {
      "text/plain": [
       "100"
      ]
     },
     "execution_count": 28,
     "metadata": {},
     "output_type": "execute_result"
    }
   ],
   "source": [
    "df_matches[\"MatchID\"].nunique()"
   ]
  },
  {
   "cell_type": "markdown",
   "id": "ae573b3f-7cd4-439c-a54d-4f258199acd3",
   "metadata": {},
   "source": [
    "## EVENTS TABLE"
   ]
  },
  {
   "cell_type": "code",
   "execution_count": 17,
   "id": "16464f95-d1f9-4830-b8c0-b50194099244",
   "metadata": {},
   "outputs": [
    {
     "name": "stdout",
     "output_type": "stream",
     "text": [
      "<class 'pandas.core.frame.DataFrame'>\n",
      "RangeIndex: 100 entries, 0 to 99\n",
      "Data columns (total 5 columns):\n",
      " #   Column     Non-Null Count  Dtype \n",
      "---  ------     --------------  ----- \n",
      " 0   EventID    100 non-null    object\n",
      " 1   MatchID    100 non-null    object\n",
      " 2   PlayerID   100 non-null    object\n",
      " 3   EventType  100 non-null    object\n",
      " 4   Minute     100 non-null    int64 \n",
      "dtypes: int64(1), object(4)\n",
      "memory usage: 4.0+ KB\n"
     ]
    }
   ],
   "source": [
    "df_events.info()"
   ]
  },
  {
   "cell_type": "code",
   "execution_count": 29,
   "id": "7f8e75a0-0f9b-4b75-a5d2-a72a5e391e27",
   "metadata": {},
   "outputs": [
    {
     "data": {
      "text/plain": [
       "100"
      ]
     },
     "execution_count": 29,
     "metadata": {},
     "output_type": "execute_result"
    }
   ],
   "source": [
    "df_events[\"EventID\"].nunique()"
   ]
  },
  {
   "cell_type": "markdown",
   "id": "6ddf17e1-66d3-46d6-ad68-1dc818b1b9c3",
   "metadata": {},
   "source": [
    "## GOALS TABLE"
   ]
  },
  {
   "cell_type": "code",
   "execution_count": 18,
   "id": "e1a4c442-b219-4c65-acff-310d87541c93",
   "metadata": {},
   "outputs": [
    {
     "name": "stdout",
     "output_type": "stream",
     "text": [
      "<class 'pandas.core.frame.DataFrame'>\n",
      "RangeIndex: 100 entries, 0 to 99\n",
      "Data columns (total 5 columns):\n",
      " #   Column    Non-Null Count  Dtype \n",
      "---  ------    --------------  ----- \n",
      " 0   GoalID    100 non-null    object\n",
      " 1   MatchID   100 non-null    object\n",
      " 2   PlayerID  100 non-null    object\n",
      " 3   TeamID    100 non-null    object\n",
      " 4   Minute    100 non-null    int64 \n",
      "dtypes: int64(1), object(4)\n",
      "memory usage: 4.0+ KB\n"
     ]
    }
   ],
   "source": [
    "df_goals.info()"
   ]
  },
  {
   "cell_type": "code",
   "execution_count": 30,
   "id": "b39e5053-ab46-41e8-8a45-e3b54320b3b9",
   "metadata": {},
   "outputs": [
    {
     "data": {
      "text/plain": [
       "100"
      ]
     },
     "execution_count": 30,
     "metadata": {},
     "output_type": "execute_result"
    }
   ],
   "source": [
    "df_goals[\"GoalID\"].nunique()"
   ]
  },
  {
   "cell_type": "markdown",
   "id": "76935859-0576-4a3d-8010-2020e62cf914",
   "metadata": {},
   "source": [
    "## ASSISTS TABLE"
   ]
  },
  {
   "cell_type": "code",
   "execution_count": 19,
   "id": "f87c35af-6b67-4491-8d4f-3e713349768c",
   "metadata": {},
   "outputs": [
    {
     "name": "stdout",
     "output_type": "stream",
     "text": [
      "<class 'pandas.core.frame.DataFrame'>\n",
      "RangeIndex: 100 entries, 0 to 99\n",
      "Data columns (total 5 columns):\n",
      " #   Column    Non-Null Count  Dtype \n",
      "---  ------    --------------  ----- \n",
      " 0   AssistID  100 non-null    object\n",
      " 1   MatchID   100 non-null    object\n",
      " 2   PlayerID  100 non-null    object\n",
      " 3   TeamID    100 non-null    object\n",
      " 4   Minute    100 non-null    int64 \n",
      "dtypes: int64(1), object(4)\n",
      "memory usage: 4.0+ KB\n"
     ]
    }
   ],
   "source": [
    "df_assists.info()"
   ]
  },
  {
   "cell_type": "code",
   "execution_count": 31,
   "id": "aa6f3738-a827-4706-8546-932d4aff06be",
   "metadata": {},
   "outputs": [
    {
     "data": {
      "text/plain": [
       "100"
      ]
     },
     "execution_count": 31,
     "metadata": {},
     "output_type": "execute_result"
    }
   ],
   "source": [
    "df_assists[\"AssistID\"].nunique()"
   ]
  },
  {
   "cell_type": "markdown",
   "id": "342cb8fb-4cac-4f3e-b42e-f97b9716e91e",
   "metadata": {},
   "source": [
    "## TOURNAMENT TABLE"
   ]
  },
  {
   "cell_type": "code",
   "execution_count": 20,
   "id": "11b319da-1725-444c-875f-79b87ae3b874",
   "metadata": {},
   "outputs": [
    {
     "name": "stdout",
     "output_type": "stream",
     "text": [
      "<class 'pandas.core.frame.DataFrame'>\n",
      "RangeIndex: 100 entries, 0 to 99\n",
      "Data columns (total 4 columns):\n",
      " #   Column        Non-Null Count  Dtype \n",
      "---  ------        --------------  ----- \n",
      " 0   TournamentID  100 non-null    object\n",
      " 1   Name          100 non-null    object\n",
      " 2   StartDate     100 non-null    object\n",
      " 3   EndDate       100 non-null    object\n",
      "dtypes: object(4)\n",
      "memory usage: 3.2+ KB\n"
     ]
    }
   ],
   "source": [
    "df_tournaments.info()"
   ]
  },
  {
   "cell_type": "code",
   "execution_count": 32,
   "id": "85b702b9-cab3-4e93-8457-1d69f78a82c6",
   "metadata": {},
   "outputs": [
    {
     "data": {
      "text/plain": [
       "100"
      ]
     },
     "execution_count": 32,
     "metadata": {},
     "output_type": "execute_result"
    }
   ],
   "source": [
    "df_tournaments[\"TournamentID\"].nunique()"
   ]
  },
  {
   "cell_type": "markdown",
   "id": "89ff98ed-e3a1-4727-80c6-efac75124b59",
   "metadata": {},
   "source": [
    "## VENUES TABLE"
   ]
  },
  {
   "cell_type": "code",
   "execution_count": 21,
   "id": "643085c6-2307-4dd9-a345-e272096495cb",
   "metadata": {},
   "outputs": [
    {
     "name": "stdout",
     "output_type": "stream",
     "text": [
      "<class 'pandas.core.frame.DataFrame'>\n",
      "RangeIndex: 100 entries, 0 to 99\n",
      "Data columns (total 4 columns):\n",
      " #   Column     Non-Null Count  Dtype \n",
      "---  ------     --------------  ----- \n",
      " 0   VenueID    100 non-null    object\n",
      " 1   VenueName  100 non-null    object\n",
      " 2   City       100 non-null    object\n",
      " 3   Capacity   100 non-null    int64 \n",
      "dtypes: int64(1), object(3)\n",
      "memory usage: 3.2+ KB\n"
     ]
    }
   ],
   "source": [
    "df_venues.info()"
   ]
  },
  {
   "cell_type": "code",
   "execution_count": 33,
   "id": "5ddc8c62-62cd-4527-809c-80272e7a2e9d",
   "metadata": {},
   "outputs": [
    {
     "data": {
      "text/plain": [
       "100"
      ]
     },
     "execution_count": 33,
     "metadata": {},
     "output_type": "execute_result"
    }
   ],
   "source": [
    "df_venues[\"VenueID\"].nunique()"
   ]
  },
  {
   "cell_type": "markdown",
   "id": "ba75a012-23be-4c72-b9ca-b7da501dc283",
   "metadata": {},
   "source": [
    "## PLAYER STATS TABLE"
   ]
  },
  {
   "cell_type": "code",
   "execution_count": 22,
   "id": "174e5475-015f-40ba-ae5f-1ef8878cee92",
   "metadata": {},
   "outputs": [
    {
     "name": "stdout",
     "output_type": "stream",
     "text": [
      "<class 'pandas.core.frame.DataFrame'>\n",
      "RangeIndex: 100 entries, 0 to 99\n",
      "Data columns (total 8 columns):\n",
      " #   Column         Non-Null Count  Dtype  \n",
      "---  ------         --------------  -----  \n",
      " 0   StatID         100 non-null    object \n",
      " 1   MatchID        100 non-null    object \n",
      " 2   PlayerID       100 non-null    object \n",
      " 3   MinutesPlayed  100 non-null    int64  \n",
      " 4   Goals          100 non-null    int64  \n",
      " 5   Assists        100 non-null    int64  \n",
      " 6   PassAccuracy   100 non-null    float64\n",
      " 7   ShotsOnTarget  100 non-null    int64  \n",
      "dtypes: float64(1), int64(4), object(3)\n",
      "memory usage: 6.4+ KB\n"
     ]
    }
   ],
   "source": [
    "df_player_stats.info()"
   ]
  },
  {
   "cell_type": "code",
   "execution_count": 34,
   "id": "33242aa2-ca6c-4f52-99cf-29ef9635916f",
   "metadata": {},
   "outputs": [
    {
     "data": {
      "text/plain": [
       "100"
      ]
     },
     "execution_count": 34,
     "metadata": {},
     "output_type": "execute_result"
    }
   ],
   "source": [
    "df_player_stats[\"StatID\"].nunique()"
   ]
  },
  {
   "cell_type": "markdown",
   "id": "d57e4a80-8d9f-47f5-b26a-198a614afb6f",
   "metadata": {},
   "source": [
    "## TEAM STATS TABLE"
   ]
  },
  {
   "cell_type": "code",
   "execution_count": 23,
   "id": "fdd66616-8fd9-4459-b337-c01a48cfead6",
   "metadata": {},
   "outputs": [
    {
     "name": "stdout",
     "output_type": "stream",
     "text": [
      "<class 'pandas.core.frame.DataFrame'>\n",
      "RangeIndex: 100 entries, 0 to 99\n",
      "Data columns (total 7 columns):\n",
      " #   Column         Non-Null Count  Dtype  \n",
      "---  ------         --------------  -----  \n",
      " 0   TeamStatID     100 non-null    object \n",
      " 1   MatchID        100 non-null    object \n",
      " 2   TeamID         100 non-null    object \n",
      " 3   Possession     100 non-null    float64\n",
      " 4   Shots          100 non-null    int64  \n",
      " 5   ShotsOnTarget  100 non-null    int64  \n",
      " 6   Fouls          100 non-null    int64  \n",
      "dtypes: float64(1), int64(3), object(3)\n",
      "memory usage: 5.6+ KB\n"
     ]
    }
   ],
   "source": [
    "df_team_stats.info()"
   ]
  },
  {
   "cell_type": "code",
   "execution_count": 36,
   "id": "8f68d783-bc31-4a4c-b1b8-20de64c127bd",
   "metadata": {},
   "outputs": [
    {
     "data": {
      "text/plain": [
       "100"
      ]
     },
     "execution_count": 36,
     "metadata": {},
     "output_type": "execute_result"
    }
   ],
   "source": [
    "df_team_stats[\"TeamStatID\"].nunique()"
   ]
  },
  {
   "cell_type": "markdown",
   "id": "72592414-2f99-4583-b8c5-fe21727f695d",
   "metadata": {},
   "source": [
    "## Conclusiones:\n",
    " - Ningun id se repite en ninguna tabla (pk)\n",
    " - No hay nulos"
   ]
  },
  {
   "cell_type": "code",
   "execution_count": null,
   "id": "52bd6c18-57f2-44ac-8a37-6d02d39a00cd",
   "metadata": {},
   "outputs": [],
   "source": []
  }
 ],
 "metadata": {
  "kernelspec": {
   "display_name": "Python3(m2)",
   "language": "python",
   "name": "m2"
  },
  "language_info": {
   "codemirror_mode": {
    "name": "ipython",
    "version": 3
   },
   "file_extension": ".py",
   "mimetype": "text/x-python",
   "name": "python",
   "nbconvert_exporter": "python",
   "pygments_lexer": "ipython3",
   "version": "3.10.14"
  }
 },
 "nbformat": 4,
 "nbformat_minor": 5
}
